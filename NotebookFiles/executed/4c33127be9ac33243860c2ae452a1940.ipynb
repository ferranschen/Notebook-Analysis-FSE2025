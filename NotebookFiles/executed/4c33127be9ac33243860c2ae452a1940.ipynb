{
 "cells": [
  {
   "cell_type": "code",
   "execution_count": 1,
   "id": "b0793240",
   "metadata": {
    "execution": {
     "iopub.execute_input": "2023-05-10T01:36:54.927709Z",
     "iopub.status.busy": "2023-05-10T01:36:54.927590Z",
     "iopub.status.idle": "2023-05-10T01:36:55.006280Z",
     "shell.execute_reply": "2023-05-10T01:36:55.005973Z"
    }
   },
   "outputs": [
    {
     "ename": "NameError",
     "evalue": "name 'bigquery' is not defined",
     "output_type": "error",
     "traceback": [
      "\u001b[0;31m---------------------------------------------------------------------------\u001b[0m",
      "\u001b[0;31mNameError\u001b[0m                                 Traceback (most recent call last)",
      "Cell \u001b[0;32mIn [1], line 2\u001b[0m\n\u001b[1;32m      1\u001b[0m BIGQUERY_PROJECT \u001b[38;5;241m=\u001b[39m \u001b[38;5;124m'\u001b[39m\u001b[38;5;124mironhacks-data\u001b[39m\u001b[38;5;124m'\u001b[39m\n\u001b[0;32m----> 2\u001b[0m bigquery_client \u001b[38;5;241m=\u001b[39m \u001b[43mbigquery\u001b[49m\u001b[38;5;241m.\u001b[39mClient(project\u001b[38;5;241m=\u001b[39mBIGQUERY_PROJECT)\n",
      "\u001b[0;31mNameError\u001b[0m: name 'bigquery' is not defined"
     ]
    }
   ],
   "source": [
    "BIGQUERY_PROJECT = 'ironhacks-data'\n",
    "bigquery_client = bigquery.Client(project=BIGQUERY_PROJECT)"
   ]
  },
  {
   "cell_type": "code",
   "execution_count": 2,
   "id": "9cc9612b",
   "metadata": {
    "execution": {
     "iopub.execute_input": "2023-05-10T01:36:55.007924Z",
     "iopub.status.busy": "2023-05-10T01:36:55.007808Z",
     "iopub.status.idle": "2023-05-10T01:36:55.009968Z",
     "shell.execute_reply": "2023-05-10T01:36:55.009729Z"
    }
   },
   "outputs": [
    {
     "ename": "SyntaxError",
     "evalue": "invalid syntax (1890479132.py, line 1)",
     "output_type": "error",
     "traceback": [
      "\u001b[0;36m  Cell \u001b[0;32mIn [2], line 1\u001b[0;36m\u001b[0m\n\u001b[0;31m    mport os\u001b[0m\n\u001b[0m          ^\u001b[0m\n\u001b[0;31mSyntaxError\u001b[0m\u001b[0;31m:\u001b[0m invalid syntax\n"
     ]
    }
   ],
   "source": [
    "mport os\n",
    "import pandas\n",
    "from google.cloud import bigquery\n",
    "from google.oauth2 import service_account\n",
    "from google.cloud.bigquery import magics"
   ]
  },
  {
   "cell_type": "code",
   "execution_count": 3,
   "id": "aa4d87ad",
   "metadata": {
    "execution": {
     "iopub.execute_input": "2023-05-10T01:36:55.011387Z",
     "iopub.status.busy": "2023-05-10T01:36:55.011278Z",
     "iopub.status.idle": "2023-05-10T01:36:55.435227Z",
     "shell.execute_reply": "2023-05-10T01:36:55.434919Z"
    }
   },
   "outputs": [],
   "source": [
    "import os\n",
    "import pandas\n",
    "from google.cloud import bigquery\n",
    "from google.oauth2 import service_account\n",
    "from google.cloud.bigquery import magics"
   ]
  },
  {
   "cell_type": "code",
   "execution_count": 4,
   "id": "7a70dd09",
   "metadata": {
    "execution": {
     "iopub.execute_input": "2023-05-10T01:36:55.436985Z",
     "iopub.status.busy": "2023-05-10T01:36:55.436835Z",
     "iopub.status.idle": "2023-05-10T01:36:55.444629Z",
     "shell.execute_reply": "2023-05-10T01:36:55.444260Z"
    }
   },
   "outputs": [],
   "source": [
    "BIGQUERY_PROJECT = 'ironhacks-data'\n",
    "bigquery_client = bigquery.Client(project=BIGQUERY_PROJECT)"
   ]
  },
  {
   "cell_type": "code",
   "execution_count": 5,
   "id": "18013900",
   "metadata": {
    "execution": {
     "iopub.execute_input": "2023-05-10T01:36:55.446477Z",
     "iopub.status.busy": "2023-05-10T01:36:55.446354Z",
     "iopub.status.idle": "2023-05-10T01:36:55.448236Z",
     "shell.execute_reply": "2023-05-10T01:36:55.448012Z"
    }
   },
   "outputs": [],
   "source": [
    "query = \"\"\"\n",
    "SELECT *\n",
    "FROM `ironhacks-data.ironhacks_training.covid19_cases`\n",
    "\"\"\""
   ]
  },
  {
   "cell_type": "code",
   "execution_count": 6,
   "id": "3368eec9",
   "metadata": {
    "execution": {
     "iopub.execute_input": "2023-05-10T01:36:55.449639Z",
     "iopub.status.busy": "2023-05-10T01:36:55.449535Z",
     "iopub.status.idle": "2023-05-10T01:36:57.246509Z",
     "shell.execute_reply": "2023-05-10T01:36:57.246107Z"
    }
   },
   "outputs": [
    {
     "data": {
      "text/html": [
       "<div>\n",
       "<style scoped>\n",
       "    .dataframe tbody tr th:only-of-type {\n",
       "        vertical-align: middle;\n",
       "    }\n",
       "\n",
       "    .dataframe tbody tr th {\n",
       "        vertical-align: top;\n",
       "    }\n",
       "\n",
       "    .dataframe thead th {\n",
       "        text-align: right;\n",
       "    }\n",
       "</style>\n",
       "<table border=\"1\" class=\"dataframe\">\n",
       "  <thead>\n",
       "    <tr style=\"text-align: right;\">\n",
       "      <th></th>\n",
       "      <th>week_number</th>\n",
       "      <th>start_date</th>\n",
       "      <th>county</th>\n",
       "      <th>fips</th>\n",
       "      <th>cases</th>\n",
       "      <th>deaths</th>\n",
       "    </tr>\n",
       "  </thead>\n",
       "  <tbody>\n",
       "    <tr>\n",
       "      <th>0</th>\n",
       "      <td>9</td>\n",
       "      <td>2021-03-01</td>\n",
       "      <td>Marion</td>\n",
       "      <td>18097</td>\n",
       "      <td>664</td>\n",
       "      <td>23</td>\n",
       "    </tr>\n",
       "    <tr>\n",
       "      <th>1</th>\n",
       "      <td>12</td>\n",
       "      <td>2021-03-22</td>\n",
       "      <td>Marion</td>\n",
       "      <td>18097</td>\n",
       "      <td>623</td>\n",
       "      <td>11</td>\n",
       "    </tr>\n",
       "    <tr>\n",
       "      <th>2</th>\n",
       "      <td>19</td>\n",
       "      <td>2021-05-10</td>\n",
       "      <td>Marion</td>\n",
       "      <td>18097</td>\n",
       "      <td>1156</td>\n",
       "      <td>4</td>\n",
       "    </tr>\n",
       "    <tr>\n",
       "      <th>3</th>\n",
       "      <td>11</td>\n",
       "      <td>2021-03-15</td>\n",
       "      <td>Marion</td>\n",
       "      <td>18097</td>\n",
       "      <td>560</td>\n",
       "      <td>13</td>\n",
       "    </tr>\n",
       "    <tr>\n",
       "      <th>4</th>\n",
       "      <td>6</td>\n",
       "      <td>2021-02-08</td>\n",
       "      <td>Marion</td>\n",
       "      <td>18097</td>\n",
       "      <td>1542</td>\n",
       "      <td>219</td>\n",
       "    </tr>\n",
       "  </tbody>\n",
       "</table>\n",
       "</div>"
      ],
      "text/plain": [
       "   week_number  start_date  county   fips  cases  deaths\n",
       "0            9  2021-03-01  Marion  18097    664      23\n",
       "1           12  2021-03-22  Marion  18097    623      11\n",
       "2           19  2021-05-10  Marion  18097   1156       4\n",
       "3           11  2021-03-15  Marion  18097    560      13\n",
       "4            6  2021-02-08  Marion  18097   1542     219"
      ]
     },
     "execution_count": 6,
     "metadata": {},
     "output_type": "execute_result"
    }
   ],
   "source": [
    "# QUERY THE DATA ONCE\n",
    "query_job = bigquery_client.query(query)\n",
    "covid19_cases_data = query_job.to_dataframe()\n",
    "covid19_cases_data.head()"
   ]
  },
  {
   "cell_type": "code",
   "execution_count": 7,
   "id": "66032892",
   "metadata": {
    "execution": {
     "iopub.execute_input": "2023-05-10T01:36:57.248596Z",
     "iopub.status.busy": "2023-05-10T01:36:57.248401Z",
     "iopub.status.idle": "2023-05-10T01:36:57.252209Z",
     "shell.execute_reply": "2023-05-10T01:36:57.251897Z"
    }
   },
   "outputs": [
    {
     "name": "stdout",
     "output_type": "stream",
     "text": [
      "Columns:\n",
      "week_number\n",
      "start_date\n",
      "county\n",
      "fips\n",
      "cases\n",
      "deaths\n",
      "\n",
      "Results:\n",
      "   week_number  start_date  county   fips  cases  deaths\n",
      "0            9  2021-03-01  Marion  18097    664      23\n",
      "1           12  2021-03-22  Marion  18097    623      11\n",
      "2           19  2021-05-10  Marion  18097   1156       4\n",
      "3           11  2021-03-15  Marion  18097    560      13\n",
      "4            6  2021-02-08  Marion  18097   1542     219\n"
     ]
    }
   ],
   "source": [
    "# THEN WORK BELOW TO DO SOMETHING THE RESULTS\n",
    "print(\"Columns:\")\n",
    "print('\\n'.join(covid19_cases_data.columns))\n",
    "print(\"\\nResults:\")\n",
    "print(covid19_cases_data.head())"
   ]
  },
  {
   "cell_type": "code",
   "execution_count": 8,
   "id": "0c14e2df",
   "metadata": {
    "execution": {
     "iopub.execute_input": "2023-05-10T01:36:57.253839Z",
     "iopub.status.busy": "2023-05-10T01:36:57.253739Z",
     "iopub.status.idle": "2023-05-10T01:36:57.255859Z",
     "shell.execute_reply": "2023-05-10T01:36:57.255369Z"
    }
   },
   "outputs": [],
   "source": [
    "query = \"\"\"\n",
    "SELECT COUNT(*)\n",
    "FROM `ironhacks-data.ironhacks_training.covid19_cases`\n",
    "\"\"\""
   ]
  },
  {
   "cell_type": "code",
   "execution_count": 9,
   "id": "6d142a48",
   "metadata": {
    "execution": {
     "iopub.execute_input": "2023-05-10T01:36:57.258551Z",
     "iopub.status.busy": "2023-05-10T01:36:57.258352Z",
     "iopub.status.idle": "2023-05-10T01:36:59.001347Z",
     "shell.execute_reply": "2023-05-10T01:36:58.999928Z"
    }
   },
   "outputs": [],
   "source": [
    "query_job = bigquery_client.query(query)\n",
    "covid19_cases_data = query_job.to_dataframe()"
   ]
  },
  {
   "cell_type": "code",
   "execution_count": 10,
   "id": "5ca998f4",
   "metadata": {
    "execution": {
     "iopub.execute_input": "2023-05-10T01:36:59.010107Z",
     "iopub.status.busy": "2023-05-10T01:36:59.009290Z",
     "iopub.status.idle": "2023-05-10T01:36:59.015236Z",
     "shell.execute_reply": "2023-05-10T01:36:59.014581Z"
    }
   },
   "outputs": [
    {
     "name": "stdout",
     "output_type": "stream",
     "text": [
      "   f0_\n",
      "0   46\n"
     ]
    }
   ],
   "source": [
    "print(covid19_cases_data)"
   ]
  },
  {
   "cell_type": "code",
   "execution_count": 11,
   "id": "6ca93448",
   "metadata": {
    "execution": {
     "iopub.execute_input": "2023-05-10T01:36:59.020743Z",
     "iopub.status.busy": "2023-05-10T01:36:59.020298Z",
     "iopub.status.idle": "2023-05-10T01:36:59.025083Z",
     "shell.execute_reply": "2023-05-10T01:36:59.024143Z"
    }
   },
   "outputs": [],
   "source": [
    "query = \"\"\"\n",
    "SELECT \n",
    "week_number,\n",
    "cases \n",
    "FROM `ironhacks-data.ironhacks_training.covid19_cases`\n",
    "Where week_number between 1 and 3\n",
    "order by week_number\n",
    "\"\"\""
   ]
  },
  {
   "cell_type": "code",
   "execution_count": 12,
   "id": "5e7266e0",
   "metadata": {
    "execution": {
     "iopub.execute_input": "2023-05-10T01:36:59.028888Z",
     "iopub.status.busy": "2023-05-10T01:36:59.028555Z",
     "iopub.status.idle": "2023-05-10T01:37:00.743267Z",
     "shell.execute_reply": "2023-05-10T01:37:00.742406Z"
    }
   },
   "outputs": [],
   "source": [
    "query_job = bigquery_client.query(query)\n",
    "covid19_cases_data = query_job.to_dataframe()"
   ]
  },
  {
   "cell_type": "code",
   "execution_count": 13,
   "id": "05e99fdf",
   "metadata": {
    "execution": {
     "iopub.execute_input": "2023-05-10T01:37:00.747287Z",
     "iopub.status.busy": "2023-05-10T01:37:00.746932Z",
     "iopub.status.idle": "2023-05-10T01:37:00.755983Z",
     "shell.execute_reply": "2023-05-10T01:37:00.754865Z"
    }
   },
   "outputs": [
    {
     "name": "stdout",
     "output_type": "stream",
     "text": [
      "   week_number  cases\n",
      "0            1   4714\n",
      "1            1    964\n",
      "2            2   5289\n",
      "3            2   1232\n",
      "4            3   3460\n"
     ]
    }
   ],
   "source": [
    "print(covid19_cases_data.head())"
   ]
  },
  {
   "cell_type": "code",
   "execution_count": 14,
   "id": "c3ae81bb",
   "metadata": {
    "execution": {
     "iopub.execute_input": "2023-05-10T01:37:00.761620Z",
     "iopub.status.busy": "2023-05-10T01:37:00.761160Z",
     "iopub.status.idle": "2023-05-10T01:37:00.770720Z",
     "shell.execute_reply": "2023-05-10T01:37:00.769969Z"
    },
    "lines_to_next_cell": 2
   },
   "outputs": [
    {
     "name": "stdout",
     "output_type": "stream",
     "text": [
      "mean:  cases    2732.666667\n",
      "dtype: float64\n"
     ]
    }
   ],
   "source": [
    "df = pandas.DataFrame(covid19_cases_data, columns = ['cases'])\n",
    "print(\"mean: \", df.mean()); "
   ]
  }
 ],
 "metadata": {
  "jupytext": {
   "cell_metadata_filter": "-all",
   "main_language": "python",
   "notebook_metadata_filter": "-all"
  },
  "language_info": {
   "codemirror_mode": {
    "name": "ipython",
    "version": 3
   },
   "file_extension": ".py",
   "mimetype": "text/x-python",
   "name": "python",
   "nbconvert_exporter": "python",
   "pygments_lexer": "ipython3",
   "version": "3.9.12"
  }
 },
 "nbformat": 4,
 "nbformat_minor": 5
}
