{
 "cells": [
  {
   "cell_type": "code",
   "execution_count": 1,
   "id": "f52051ed",
   "metadata": {
    "execution": {
     "iopub.execute_input": "2023-05-10T01:22:22.052881Z",
     "iopub.status.busy": "2023-05-10T01:22:22.052771Z",
     "iopub.status.idle": "2023-05-10T01:22:22.343971Z",
     "shell.execute_reply": "2023-05-10T01:22:22.342351Z"
    }
   },
   "outputs": [],
   "source": [
    "import numpy as np\n",
    "import pandas as pd"
   ]
  },
  {
   "cell_type": "code",
   "execution_count": 2,
   "id": "0e7d032a",
   "metadata": {
    "execution": {
     "iopub.execute_input": "2023-05-10T01:22:22.348626Z",
     "iopub.status.busy": "2023-05-10T01:22:22.348143Z",
     "iopub.status.idle": "2023-05-10T01:22:22.350448Z",
     "shell.execute_reply": "2023-05-10T01:22:22.350166Z"
    },
    "lines_to_next_cell": 2
   },
   "outputs": [],
   "source": [
    "import numpy as np\n",
    "import pandas as pd"
   ]
  }
 ],
 "metadata": {
  "jupytext": {
   "cell_metadata_filter": "-all",
   "main_language": "python",
   "notebook_metadata_filter": "-all"
  },
  "language_info": {
   "codemirror_mode": {
    "name": "ipython",
    "version": 3
   },
   "file_extension": ".py",
   "mimetype": "text/x-python",
   "name": "python",
   "nbconvert_exporter": "python",
   "pygments_lexer": "ipython3",
   "version": "3.9.12"
  }
 },
 "nbformat": 4,
 "nbformat_minor": 5
}
