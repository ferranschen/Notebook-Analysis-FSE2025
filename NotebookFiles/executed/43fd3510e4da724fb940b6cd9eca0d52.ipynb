{
 "cells": [
  {
   "cell_type": "code",
   "execution_count": 1,
   "id": "ea486874",
   "metadata": {
    "execution": {
     "iopub.execute_input": "2023-05-10T01:33:45.473448Z",
     "iopub.status.busy": "2023-05-10T01:33:45.473294Z",
     "iopub.status.idle": "2023-05-10T01:33:45.931919Z",
     "shell.execute_reply": "2023-05-10T01:33:45.931628Z"
    }
   },
   "outputs": [],
   "source": [
    "import os\n",
    "import pandas\n",
    "from google.cloud import bigquery\n",
    "from google.oauth2 import service_account\n",
    "from google.cloud.bigquery import magics"
   ]
  },
  {
   "cell_type": "markdown",
   "id": "bf6ab0d3",
   "metadata": {},
   "source": [
    "CONFIGURE THE BIGQUERY SETTINGS"
   ]
  },
  {
   "cell_type": "code",
   "execution_count": 2,
   "id": "3a921fff",
   "metadata": {
    "execution": {
     "iopub.execute_input": "2023-05-10T01:33:45.933826Z",
     "iopub.status.busy": "2023-05-10T01:33:45.933665Z",
     "iopub.status.idle": "2023-05-10T01:33:45.941238Z",
     "shell.execute_reply": "2023-05-10T01:33:45.940707Z"
    }
   },
   "outputs": [],
   "source": [
    "BIGQUERY_PROJECT = 'ironhacks-data'\n",
    "bigquery_client = bigquery.Client(project=BIGQUERY_PROJECT)"
   ]
  },
  {
   "cell_type": "code",
   "execution_count": 3,
   "id": "b0fa335c",
   "metadata": {
    "execution": {
     "iopub.execute_input": "2023-05-10T01:33:45.943224Z",
     "iopub.status.busy": "2023-05-10T01:33:45.943088Z",
     "iopub.status.idle": "2023-05-10T01:33:45.945075Z",
     "shell.execute_reply": "2023-05-10T01:33:45.944843Z"
    }
   },
   "outputs": [],
   "source": [
    "query = \"\"\"\n",
    "SELECT *\n",
    "FROM `ironhacks-data.ironhacks_training.covid19_cases`\n",
    "\"\"\""
   ]
  },
  {
   "cell_type": "code",
   "execution_count": 4,
   "id": "e3ebfe14",
   "metadata": {
    "execution": {
     "iopub.execute_input": "2023-05-10T01:33:45.946417Z",
     "iopub.status.busy": "2023-05-10T01:33:45.946312Z",
     "iopub.status.idle": "2023-05-10T01:33:46.532992Z",
     "shell.execute_reply": "2023-05-10T01:33:46.531978Z"
    }
   },
   "outputs": [
    {
     "name": "stdout",
     "output_type": "stream",
     "text": [
      "QueryJob<project=ironhacks-data, location=US, id=c55709bf-2b8d-450b-a621-ce94d3a3cc59>\n"
     ]
    }
   ],
   "source": [
    "# QUERY THE DATA ONCE\n",
    "query_job = bigquery_client.query(query)\n",
    "print(query_job)\n",
    "# covid19_cases_data = query_job.to_dataframe()"
   ]
  },
  {
   "cell_type": "code",
   "execution_count": 5,
   "id": "986e472c",
   "metadata": {
    "execution": {
     "iopub.execute_input": "2023-05-10T01:33:46.539220Z",
     "iopub.status.busy": "2023-05-10T01:33:46.538710Z",
     "iopub.status.idle": "2023-05-10T01:33:46.543988Z",
     "shell.execute_reply": "2023-05-10T01:33:46.543019Z"
    }
   },
   "outputs": [],
   "source": [
    "query = \"\"\"\n",
    "SELECT *\n",
    "FROM `ironhacks-data.ironhacks_training.covid19_cases`\n",
    "\"\"\""
   ]
  },
  {
   "cell_type": "code",
   "execution_count": 6,
   "id": "c9cc5343",
   "metadata": {
    "execution": {
     "iopub.execute_input": "2023-05-10T01:33:46.549002Z",
     "iopub.status.busy": "2023-05-10T01:33:46.548562Z",
     "iopub.status.idle": "2023-05-10T01:33:49.193107Z",
     "shell.execute_reply": "2023-05-10T01:33:49.192121Z"
    },
    "lines_to_next_cell": 2
   },
   "outputs": [
    {
     "name": "stdout",
     "output_type": "stream",
     "text": [
      "QueryJob<project=ironhacks-data, location=US, id=491e1bdc-069c-4c37-8bf2-3d7ff72f7363>\n"
     ]
    }
   ],
   "source": [
    "# QUERY THE DATA ONCE\n",
    "query_job = bigquery_client.query(query)\n",
    "print(query_job)\n",
    "covid19_cases_data = query_job.to_dataframe()"
   ]
  }
 ],
 "metadata": {
  "jupytext": {
   "cell_metadata_filter": "-all",
   "main_language": "python",
   "notebook_metadata_filter": "-all"
  },
  "kernelspec": {
   "display_name": "base",
   "language": "python",
   "name": "python3"
  },
  "language_info": {
   "codemirror_mode": {
    "name": "ipython",
    "version": 3
   },
   "file_extension": ".py",
   "mimetype": "text/x-python",
   "name": "python",
   "nbconvert_exporter": "python",
   "pygments_lexer": "ipython3",
   "version": "3.9.12"
  }
 },
 "nbformat": 4,
 "nbformat_minor": 5
}
