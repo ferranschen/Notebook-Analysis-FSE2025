{
 "cells": [
  {
   "cell_type": "code",
   "execution_count": 1,
   "id": "293d26ed",
   "metadata": {
    "execution": {
     "iopub.execute_input": "2023-05-10T02:29:39.946815Z",
     "iopub.status.busy": "2023-05-10T02:29:39.946695Z",
     "iopub.status.idle": "2023-05-10T02:29:40.416749Z",
     "shell.execute_reply": "2023-05-10T02:29:40.416472Z"
    }
   },
   "outputs": [],
   "source": [
    "import os\n",
    "import pandas\n",
    "from google.cloud import bigquery\n",
    "from google.oauth2 import service_account\n",
    "from google.cloud.bigquery import magics"
   ]
  },
  {
   "cell_type": "markdown",
   "id": "b2e7d556",
   "metadata": {},
   "source": [
    "CONFIGURE THE BIGQUERY SETTINGS"
   ]
  },
  {
   "cell_type": "code",
   "execution_count": 2,
   "id": "25b5049c",
   "metadata": {
    "execution": {
     "iopub.execute_input": "2023-05-10T02:29:40.418565Z",
     "iopub.status.busy": "2023-05-10T02:29:40.418393Z",
     "iopub.status.idle": "2023-05-10T02:29:40.427058Z",
     "shell.execute_reply": "2023-05-10T02:29:40.426403Z"
    }
   },
   "outputs": [],
   "source": [
    "BIGQUERY_PROJECT = 'ironhacks-data'\n",
    "bigquery_client = bigquery.Client(project=BIGQUERY_PROJECT)"
   ]
  },
  {
   "cell_type": "code",
   "execution_count": 3,
   "id": "b21344c1",
   "metadata": {
    "execution": {
     "iopub.execute_input": "2023-05-10T02:29:40.428818Z",
     "iopub.status.busy": "2023-05-10T02:29:40.428694Z",
     "iopub.status.idle": "2023-05-10T02:29:40.430614Z",
     "shell.execute_reply": "2023-05-10T02:29:40.430382Z"
    }
   },
   "outputs": [],
   "source": [
    "query = \"\"\"\n",
    "SELECT *\n",
    "FROM `ironhacks-data.ironhacks_training.covid19_cases`\n",
    "\"\"\""
   ]
  },
  {
   "cell_type": "code",
   "execution_count": 4,
   "id": "8255acfd",
   "metadata": {
    "execution": {
     "iopub.execute_input": "2023-05-10T02:29:40.431824Z",
     "iopub.status.busy": "2023-05-10T02:29:40.431729Z",
     "iopub.status.idle": "2023-05-10T02:29:42.186169Z",
     "shell.execute_reply": "2023-05-10T02:29:42.185314Z"
    },
    "lines_to_next_cell": 2
   },
   "outputs": [],
   "source": [
    "# QUERY THE DATA ONCE\n",
    "query_job = bigquery_client.query(query)\n",
    "covid19_cases_data = query_job.to_dataframe()"
   ]
  }
 ],
 "metadata": {
  "jupytext": {
   "cell_metadata_filter": "-all",
   "main_language": "python",
   "notebook_metadata_filter": "-all"
  },
  "language_info": {
   "codemirror_mode": {
    "name": "ipython",
    "version": 3
   },
   "file_extension": ".py",
   "mimetype": "text/x-python",
   "name": "python",
   "nbconvert_exporter": "python",
   "pygments_lexer": "ipython3",
   "version": "3.9.12"
  }
 },
 "nbformat": 4,
 "nbformat_minor": 5
}
